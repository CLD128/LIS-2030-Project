{
 "cells": [
  {
   "cell_type": "markdown",
   "metadata": {},
   "source": [
    "Now, we want to compare the ages of death for these 9 individuals with the median age of death for those in the same municipality.\n",
    "\n",
    "Again, we start by importing the data into Python using a Pandas library on the median age of death for this period. In particular, the Western Pennsylvania Regional Data Center has tracked the median age at death in Allegheny County between 2011 and 2015 and made that available at \"https://data.wprdc.org/dataset/median-age-death\".\n",
    "\n",
    "Fortunately, this already came as CSV file, and we could then upload it to Jupyter Hub. Reading the file into Python results in the following table showing 131 Allegheny County municipalities and their respective data."
   ]
  },
  {
   "cell_type": "code",
   "execution_count": 2,
   "metadata": {},
   "outputs": [
    {
     "data": {
      "text/html": [
       "<div>\n",
       "<style scoped>\n",
       "    .dataframe tbody tr th:only-of-type {\n",
       "        vertical-align: middle;\n",
       "    }\n",
       "\n",
       "    .dataframe tbody tr th {\n",
       "        vertical-align: top;\n",
       "    }\n",
       "\n",
       "    .dataframe thead th {\n",
       "        text-align: right;\n",
       "    }\n",
       "</style>\n",
       "<table border=\"1\" class=\"dataframe\">\n",
       "  <thead>\n",
       "    <tr style=\"text-align: right;\">\n",
       "      <th></th>\n",
       "      <th>Municipality</th>\n",
       "      <th>BLACKdeaths</th>\n",
       "      <th>BLACK MD AGE AT DEATH</th>\n",
       "      <th>WHITEdeaths</th>\n",
       "      <th>WHITE MD AGE AT DEATH</th>\n",
       "      <th>TOTALdeaths</th>\n",
       "      <th>TOTAL MD AGE AT DEATH</th>\n",
       "    </tr>\n",
       "  </thead>\n",
       "  <tbody>\n",
       "    <tr>\n",
       "      <th>0</th>\n",
       "      <td>Haysville Borough</td>\n",
       "      <td>0</td>\n",
       "      <td>0.0</td>\n",
       "      <td>5</td>\n",
       "      <td>77.5</td>\n",
       "      <td>5</td>\n",
       "      <td>77.5</td>\n",
       "    </tr>\n",
       "    <tr>\n",
       "      <th>1</th>\n",
       "      <td>Trafford Borough</td>\n",
       "      <td>0</td>\n",
       "      <td>0.0</td>\n",
       "      <td>5</td>\n",
       "      <td>80.0</td>\n",
       "      <td>5</td>\n",
       "      <td>80.0</td>\n",
       "    </tr>\n",
       "    <tr>\n",
       "      <th>2</th>\n",
       "      <td>Ben Avon Heights Borough</td>\n",
       "      <td>0</td>\n",
       "      <td>0.0</td>\n",
       "      <td>10</td>\n",
       "      <td>86.7</td>\n",
       "      <td>10</td>\n",
       "      <td>86.7</td>\n",
       "    </tr>\n",
       "    <tr>\n",
       "      <th>3</th>\n",
       "      <td>Glenfield Borough</td>\n",
       "      <td>0</td>\n",
       "      <td>0.0</td>\n",
       "      <td>16</td>\n",
       "      <td>82.5</td>\n",
       "      <td>16</td>\n",
       "      <td>82.5</td>\n",
       "    </tr>\n",
       "    <tr>\n",
       "      <th>4</th>\n",
       "      <td>Glen Osborne Borough</td>\n",
       "      <td>0</td>\n",
       "      <td>0.0</td>\n",
       "      <td>19</td>\n",
       "      <td>78.6</td>\n",
       "      <td>19</td>\n",
       "      <td>78.6</td>\n",
       "    </tr>\n",
       "  </tbody>\n",
       "</table>\n",
       "</div>"
      ],
      "text/plain": [
       "               Municipality  BLACKdeaths  BLACK MD AGE AT DEATH  WHITEdeaths  \\\n",
       "0         Haysville Borough            0                    0.0            5   \n",
       "1          Trafford Borough            0                    0.0            5   \n",
       "2  Ben Avon Heights Borough            0                    0.0           10   \n",
       "3         Glenfield Borough            0                    0.0           16   \n",
       "4      Glen Osborne Borough            0                    0.0           19   \n",
       "\n",
       "   WHITE MD AGE AT DEATH  TOTALdeaths  TOTAL MD AGE AT DEATH  \n",
       "0                   77.5            5                   77.5  \n",
       "1                   80.0            5                   80.0  \n",
       "2                   86.7           10                   86.7  \n",
       "3                   82.5           16                   82.5  \n",
       "4                   78.6           19                   78.6  "
      ]
     },
     "execution_count": 2,
     "metadata": {},
     "output_type": "execute_result"
    }
   ],
   "source": [
    "import pandas as pd\n",
    "wprdc_data = pd.read_csv(\"files/munimedianage20112015.csv\")\n",
    "wprdc_data.head()"
   ]
  },
  {
   "cell_type": "markdown",
   "metadata": {},
   "source": [
    "Looking through the municipalities here and comparing to our list of shooting victims, we can see we will have a few issues merging these datasets. First, there's a pesky misspelling of \"Pittsburg\" in Shawn Evans' listing. Let's fix that now with a simple \"replace\" modification."
   ]
  },
  {
   "cell_type": "code",
   "execution_count": null,
   "metadata": {},
   "outputs": [],
   "source": [
    "allegheny_violence_sic = allegheny_violence.replace(\"Pittsburg\",\"Pittsburgh\")\n",
    "allegheny_violence_sic.head()"
   ]
  },
  {
   "cell_type": "markdown",
   "metadata": {},
   "source": [
    "Another issue is that the WPRDC data does not include a listing for the Knoxville neighborhood. However, the WPRDC data does include Mount Oliver, which is adjacent to Knoxville, and so we will substitute Knoxville into the WPRDC dataframe to get the median age of death for the adjacent neighborhood."
   ]
  },
  {
   "cell_type": "code",
   "execution_count": 10,
   "metadata": {},
   "outputs": [
    {
     "data": {
      "text/html": [
       "<div>\n",
       "<style scoped>\n",
       "    .dataframe tbody tr th:only-of-type {\n",
       "        vertical-align: middle;\n",
       "    }\n",
       "\n",
       "    .dataframe tbody tr th {\n",
       "        vertical-align: top;\n",
       "    }\n",
       "\n",
       "    .dataframe thead th {\n",
       "        text-align: right;\n",
       "    }\n",
       "</style>\n",
       "<table border=\"1\" class=\"dataframe\">\n",
       "  <thead>\n",
       "    <tr style=\"text-align: right;\">\n",
       "      <th></th>\n",
       "      <th>Municipality</th>\n",
       "      <th>BLACKdeaths</th>\n",
       "      <th>BLACK MD AGE AT DEATH</th>\n",
       "      <th>WHITEdeaths</th>\n",
       "      <th>WHITE MD AGE AT DEATH</th>\n",
       "      <th>TOTALdeaths</th>\n",
       "      <th>TOTAL MD AGE AT DEATH</th>\n",
       "    </tr>\n",
       "  </thead>\n",
       "  <tbody>\n",
       "    <tr>\n",
       "      <th>0</th>\n",
       "      <td>Haysville Borough</td>\n",
       "      <td>0</td>\n",
       "      <td>0.0</td>\n",
       "      <td>5</td>\n",
       "      <td>77.5</td>\n",
       "      <td>5</td>\n",
       "      <td>77.5</td>\n",
       "    </tr>\n",
       "    <tr>\n",
       "      <th>1</th>\n",
       "      <td>Trafford Borough</td>\n",
       "      <td>0</td>\n",
       "      <td>0.0</td>\n",
       "      <td>5</td>\n",
       "      <td>80.0</td>\n",
       "      <td>5</td>\n",
       "      <td>80.0</td>\n",
       "    </tr>\n",
       "    <tr>\n",
       "      <th>2</th>\n",
       "      <td>Ben Avon Heights Borough</td>\n",
       "      <td>0</td>\n",
       "      <td>0.0</td>\n",
       "      <td>10</td>\n",
       "      <td>86.7</td>\n",
       "      <td>10</td>\n",
       "      <td>86.7</td>\n",
       "    </tr>\n",
       "    <tr>\n",
       "      <th>3</th>\n",
       "      <td>Glenfield Borough</td>\n",
       "      <td>0</td>\n",
       "      <td>0.0</td>\n",
       "      <td>16</td>\n",
       "      <td>82.5</td>\n",
       "      <td>16</td>\n",
       "      <td>82.5</td>\n",
       "    </tr>\n",
       "    <tr>\n",
       "      <th>4</th>\n",
       "      <td>Glen Osborne Borough</td>\n",
       "      <td>0</td>\n",
       "      <td>0.0</td>\n",
       "      <td>19</td>\n",
       "      <td>78.6</td>\n",
       "      <td>19</td>\n",
       "      <td>78.6</td>\n",
       "    </tr>\n",
       "  </tbody>\n",
       "</table>\n",
       "</div>"
      ],
      "text/plain": [
       "               Municipality  BLACKdeaths  BLACK MD AGE AT DEATH  WHITEdeaths  \\\n",
       "0         Haysville Borough            0                    0.0            5   \n",
       "1          Trafford Borough            0                    0.0            5   \n",
       "2  Ben Avon Heights Borough            0                    0.0           10   \n",
       "3         Glenfield Borough            0                    0.0           16   \n",
       "4      Glen Osborne Borough            0                    0.0           19   \n",
       "\n",
       "   WHITE MD AGE AT DEATH  TOTALdeaths  TOTAL MD AGE AT DEATH  \n",
       "0                   77.5            5                   77.5  \n",
       "1                   80.0            5                   80.0  \n",
       "2                   86.7           10                   86.7  \n",
       "3                   82.5           16                   82.5  \n",
       "4                   78.6           19                   78.6  "
      ]
     },
     "execution_count": 10,
     "metadata": {},
     "output_type": "execute_result"
    }
   ],
   "source": [
    "wprdc_sub = wprdc_data.replace(\"Mount Oliver Borough\",\"Knoxville\")\n",
    "wprdc_sub.head()"
   ]
  },
  {
   "cell_type": "markdown",
   "metadata": {},
   "source": [
    "The last, more serious issue, is that the \"City\" designation in this table doesn't include Township or Borough identifiers that the WPRDC data does. We could just do another replace, but we may as well do something a little more complicated."
   ]
  },
  {
   "cell_type": "code",
   "execution_count": null,
   "metadata": {},
   "outputs": [],
   "source": [
    "list_mediandeath = []\n",
    "for municipality in allegheny_violence_sic[\"City\"] :\n",
    "    if allegheny_violence_sic.loc[allegheny_violence_sic.City == municipality, 'Victim's race'].values[0] == \"Black\" :\n",
    "        list_mediandeath.append(wprdc.loc[wprdc_sub.Municipality == wprdc_sub[\"Municipality\"].str.find(municipality), \"BLACK MD AGE AT DEATH\"].values[0])\n",
    "    else if allegheny_violence_sic.loc[allegheny_violence_sic.City == municipality, 'Victim's race'].values[0] == \"White\" :\n",
    "        list_mediandeath.append(wprdc.loc[wprdc_sub.Municipality == wprdc_sub[\"Municipality\"].str.find(municipality), \"WHITE MD AGE AT DEATH\"].values[0])\n",
    "allegheny_violence_sic.insert(2,\"Median Age of Death in Municipality by Race\",list_mediandeath)"
   ]
  },
  {
   "cell_type": "markdown",
   "metadata": {},
   "source": [
    "What we did here is to create a new Pandas series of just the median age of death for each municipality broken down by victim race. We started with an empty list and then created a for-loop to search through each City entry in the spell-checked Allegheny Violence dataframe.\n",
    "\n",
    "From there, we searched for the row corresponding to each City and column corresponding to the victim's race to give us the race of each victim. Then, we could do a similar search of the WPRDC data to find the row corresponding to the City and then the column corresponding to the median age of death, specific to the race we found earlier. That value was appended to the initial list, and that list was then added as a Pandas series into the original dataframe."
   ]
  },
  {
   "cell_type": "markdown",
   "metadata": {},
   "source": [
    "Last thing to do for this part is to figure out the difference between each victim's age of death and the median for their municipality before comparing the difference between each race. To do that, we subtract the age of the victim from our new median for their municipality. Positive values will show the victim(s) was/were younger than the median, and negative values will indicate the victim(s) was/were older than the median."
   ]
  },
  {
   "cell_type": "code",
   "execution_count": null,
   "metadata": {},
   "outputs": [],
   "source": [
    "allegheny_violence_sic[\"Difference (Median-Actual)\"] = allegheny_violence_sic[\"Median Age of Death in Municipality by Race\"] - allegheny_violence_sic[\"Victim's age\"]\n",
    "allegheny_violence_sic"
   ]
  },
  {
   "cell_type": "markdown",
   "metadata": {},
   "source": [
    "And then we can compute the average difference, separated by race, using our earlier mask."
   ]
  },
  {
   "cell_type": "code",
   "execution_count": null,
   "metadata": {},
   "outputs": [],
   "source": [
    "w_victims_avg = allegheny_violence_sic[w_mask][\"Victim's age\"].mean()\n",
    "w_victims_avg"
   ]
  },
  {
   "cell_type": "code",
   "execution_count": null,
   "metadata": {},
   "outputs": [],
   "source": [
    "b_victims_avg = allegheny_violence_sic[b_mask][\"Victim's age\"].mean()\n",
    "b_victims_avg"
   ]
  },
  {
   "cell_type": "markdown",
   "metadata": {},
   "source": [
    "As we can see, (black/white) victims have a higher difference in death age compared to their neighbors of the same race."
   ]
  },
  {
   "cell_type": "code",
   "execution_count": null,
   "metadata": {},
   "outputs": [],
   "source": []
  }
 ],
 "metadata": {
  "kernelspec": {
   "display_name": "Python 3",
   "language": "python",
   "name": "python3"
  },
  "language_info": {
   "codemirror_mode": {
    "name": "ipython",
    "version": 3
   },
   "file_extension": ".py",
   "mimetype": "text/x-python",
   "name": "python",
   "nbconvert_exporter": "python",
   "pygments_lexer": "ipython3",
   "version": "3.8.3"
  }
 },
 "nbformat": 4,
 "nbformat_minor": 4
}
